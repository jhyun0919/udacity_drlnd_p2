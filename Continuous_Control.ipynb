{
 "cells": [
  {
   "cell_type": "markdown",
   "metadata": {},
   "source": [
    "# Continuous Control\n",
    "\n",
    "---\n",
    "\n",
    "In this notebook, you will learn how to use the Unity ML-Agents environment for the second project of the [Deep Reinforcement Learning Nanodegree](https://www.udacity.com/course/deep-reinforcement-learning-nanodegree--nd893) program.\n",
    "\n",
    "### 1. Start the Environment\n",
    "\n",
    "We begin by importing the necessary packages.  If the code cell below returns an error, please revisit the project instructions to double-check that you have installed [Unity ML-Agents](https://github.com/Unity-Technologies/ml-agents/blob/master/docs/Installation.md) and [NumPy](http://www.numpy.org/)."
   ]
  },
  {
   "cell_type": "code",
   "execution_count": 1,
   "metadata": {
    "ExecuteTime": {
     "end_time": "2019-04-16T22:53:06.702025Z",
     "start_time": "2019-04-16T22:53:06.494753Z"
    }
   },
   "outputs": [],
   "source": [
    "from unityagents import UnityEnvironment\n",
    "import numpy as np"
   ]
  },
  {
   "cell_type": "markdown",
   "metadata": {},
   "source": [
    "Next, we will start the environment!  **_Before running the code cell below_**, change the `file_name` parameter to match the location of the Unity environment that you downloaded.\n",
    "\n",
    "- **Mac**: `\"path/to/Reacher.app\"`\n",
    "- **Windows** (x86): `\"path/to/Reacher_Windows_x86/Reacher.exe\"`\n",
    "- **Windows** (x86_64): `\"path/to/Reacher_Windows_x86_64/Reacher.exe\"`\n",
    "- **Linux** (x86): `\"path/to/Reacher_Linux/Reacher.x86\"`\n",
    "- **Linux** (x86_64): `\"path/to/Reacher_Linux/Reacher.x86_64\"`\n",
    "- **Linux** (x86, headless): `\"path/to/Reacher_Linux_NoVis/Reacher.x86\"`\n",
    "- **Linux** (x86_64, headless): `\"path/to/Reacher_Linux_NoVis/Reacher.x86_64\"`\n",
    "\n",
    "For instance, if you are using a Mac, then you downloaded `Reacher.app`.  If this file is in the same folder as the notebook, then the line below should appear as follows:\n",
    "```\n",
    "env = UnityEnvironment(file_name=\"Reacher.app\")\n",
    "```"
   ]
  },
  {
   "cell_type": "code",
   "execution_count": 2,
   "metadata": {
    "ExecuteTime": {
     "end_time": "2019-04-16T22:53:07.165796Z",
     "start_time": "2019-04-16T22:53:06.705329Z"
    }
   },
   "outputs": [
    {
     "name": "stderr",
     "output_type": "stream",
     "text": [
      "INFO:unityagents:\n",
      "'Academy' started successfully!\n",
      "Unity Academy name: Academy\n",
      "        Number of Brains: 1\n",
      "        Number of External Brains : 1\n",
      "        Lesson number : 0\n",
      "        Reset Parameters :\n",
      "\t\tgoal_speed -> 1.0\n",
      "\t\tgoal_size -> 5.0\n",
      "Unity brain name: ReacherBrain\n",
      "        Number of Visual Observations (per agent): 0\n",
      "        Vector Observation space type: continuous\n",
      "        Vector Observation space size (per agent): 33\n",
      "        Number of stacked Vector Observation: 1\n",
      "        Vector Action space type: continuous\n",
      "        Vector Action space size (per agent): 4\n",
      "        Vector Action descriptions: , , , \n"
     ]
    }
   ],
   "source": [
    "env = UnityEnvironment(file_name='./Reacher_Linux_NoVis/Reacher.x86_64', seed=2)\n"
   ]
  },
  {
   "cell_type": "markdown",
   "metadata": {},
   "source": [
    "Environments contain **_brains_** which are responsible for deciding the actions of their associated agents. Here we check for the first brain available, and set it as the default brain we will be controlling from Python."
   ]
  },
  {
   "cell_type": "code",
   "execution_count": 3,
   "metadata": {
    "ExecuteTime": {
     "end_time": "2019-04-16T22:53:07.175997Z",
     "start_time": "2019-04-16T22:53:07.170194Z"
    }
   },
   "outputs": [],
   "source": [
    "# get the default brain\n",
    "brain_name = env.brain_names[0]\n",
    "brain = env.brains[brain_name]"
   ]
  },
  {
   "cell_type": "markdown",
   "metadata": {},
   "source": [
    "### 2. Examine the State and Action Spaces\n",
    "\n",
    "In this environment, a double-jointed arm can move to target locations. A reward of `+0.1` is provided for each step that the agent's hand is in the goal location. Thus, the goal of your agent is to maintain its position at the target location for as many time steps as possible.\n",
    "\n",
    "The observation space consists of `33` variables corresponding to position, rotation, velocity, and angular velocities of the arm.  Each action is a vector with four numbers, corresponding to torque applicable to two joints.  Every entry in the action vector must be a number between `-1` and `1`.\n",
    "\n",
    "Run the code cell below to print some information about the environment."
   ]
  },
  {
   "cell_type": "code",
   "execution_count": 4,
   "metadata": {
    "ExecuteTime": {
     "end_time": "2019-04-16T22:53:07.382665Z",
     "start_time": "2019-04-16T22:53:07.180815Z"
    }
   },
   "outputs": [
    {
     "name": "stdout",
     "output_type": "stream",
     "text": [
      "Number of agents: 1\n",
      "Size of each action: 4\n",
      "There are 1 agents. Each observes a state with length: 33\n",
      "The state for the first agent looks like: [ 0.00000000e+00 -4.00000000e+00  0.00000000e+00  1.00000000e+00\n",
      " -0.00000000e+00 -0.00000000e+00 -4.37113883e-08  0.00000000e+00\n",
      "  0.00000000e+00  0.00000000e+00  0.00000000e+00  0.00000000e+00\n",
      "  0.00000000e+00  0.00000000e+00 -1.00000000e+01  0.00000000e+00\n",
      "  1.00000000e+00 -0.00000000e+00 -0.00000000e+00 -4.37113883e-08\n",
      "  0.00000000e+00  0.00000000e+00  0.00000000e+00  0.00000000e+00\n",
      "  0.00000000e+00  0.00000000e+00 -1.39619827e-01 -1.00000000e+00\n",
      " -7.99878168e+00  0.00000000e+00  1.00000000e+00  0.00000000e+00\n",
      "  8.00664425e-01]\n"
     ]
    }
   ],
   "source": [
    "# reset the environment\n",
    "env_info = env.reset(train_mode=True)[brain_name]\n",
    "\n",
    "# number of agents\n",
    "num_agents = len(env_info.agents)\n",
    "print('Number of agents:', num_agents)\n",
    "\n",
    "# size of each action\n",
    "action_size = brain.vector_action_space_size\n",
    "print('Size of each action:', action_size)\n",
    "\n",
    "# examine the state space\n",
    "states = env_info.vector_observations\n",
    "state_size = states.shape[1]\n",
    "print('There are {} agents. Each observes a state with length: {}'.format(\n",
    "    states.shape[0], state_size))\n",
    "print('The state for the first agent looks like:', states[0])"
   ]
  },
  {
   "cell_type": "code",
   "execution_count": 5,
   "metadata": {
    "ExecuteTime": {
     "end_time": "2019-04-16T22:53:07.405935Z",
     "start_time": "2019-04-16T22:53:07.388855Z"
    }
   },
   "outputs": [
    {
     "data": {
      "text/plain": [
       "array([[ 0.00000000e+00, -4.00000000e+00,  0.00000000e+00,\n",
       "         1.00000000e+00, -0.00000000e+00, -0.00000000e+00,\n",
       "        -4.37113883e-08,  0.00000000e+00,  0.00000000e+00,\n",
       "         0.00000000e+00,  0.00000000e+00,  0.00000000e+00,\n",
       "         0.00000000e+00,  0.00000000e+00, -1.00000000e+01,\n",
       "         0.00000000e+00,  1.00000000e+00, -0.00000000e+00,\n",
       "        -0.00000000e+00, -4.37113883e-08,  0.00000000e+00,\n",
       "         0.00000000e+00,  0.00000000e+00,  0.00000000e+00,\n",
       "         0.00000000e+00,  0.00000000e+00, -1.39619827e-01,\n",
       "        -1.00000000e+00, -7.99878168e+00,  0.00000000e+00,\n",
       "         1.00000000e+00,  0.00000000e+00,  8.00664425e-01]])"
      ]
     },
     "execution_count": 5,
     "metadata": {},
     "output_type": "execute_result"
    }
   ],
   "source": [
    " env_info.vector_observations"
   ]
  },
  {
   "cell_type": "markdown",
   "metadata": {},
   "source": [
    "### 3. Take Random Actions in the Environment\n",
    "\n",
    "In the next code cell, you will learn how to use the Python API to control the agent and receive feedback from the environment.\n",
    "\n",
    "Once this cell is executed, you will watch the agent's performance, if it selects an action at random with each time step.  A window should pop up that allows you to observe the agent, as it moves through the environment.  \n",
    "\n",
    "Of course, as part of the project, you'll have to change the code so that the agent is able to use its experience to gradually choose better actions when interacting with the environment!"
   ]
  },
  {
   "cell_type": "code",
   "execution_count": 6,
   "metadata": {
    "ExecuteTime": {
     "end_time": "2019-04-16T22:53:07.464706Z",
     "start_time": "2019-04-16T22:53:07.408175Z"
    }
   },
   "outputs": [],
   "source": [
    "# env_info = env.reset(train_mode=False)[brain_name]     # reset the environment    \n",
    "# states = env_info.vector_observations                  # get the current state (for each agent)\n",
    "# scores = np.zeros(num_agents)                          # initialize the score (for each agent)\n",
    "# while True:\n",
    "#     actions = np.random.randn(num_agents, action_size) # select an action (for each agent)\n",
    "#     actions = np.clip(actions, -1, 1)                  # all actions between -1 and 1\n",
    "#     env_info = env.step(actions)[brain_name]           # send all actions to tne environment\n",
    "#     next_states = env_info.vector_observations         # get next state (for each agent)\n",
    "#     rewards = env_info.rewards                         # get reward (for each agent)\n",
    "#     dones = env_info.local_done                        # see if episode finished\n",
    "#     scores += env_info.rewards                         # update the score (for each agent)\n",
    "#     states = next_states                               # roll over states to next time step\n",
    "#     if np.any(dones):                                  # exit loop if episode finished\n",
    "#         break\n",
    "# print('Total score (averaged over agents) this episode: {}'.format(np.mean(scores)))"
   ]
  },
  {
   "cell_type": "markdown",
   "metadata": {},
   "source": [
    "When finished, you can close the environment."
   ]
  },
  {
   "cell_type": "code",
   "execution_count": 7,
   "metadata": {
    "ExecuteTime": {
     "end_time": "2019-04-16T22:53:07.579986Z",
     "start_time": "2019-04-16T22:53:07.466713Z"
    }
   },
   "outputs": [],
   "source": [
    "# env.close()"
   ]
  },
  {
   "cell_type": "markdown",
   "metadata": {},
   "source": [
    "### 4. It's Your Turn!\n",
    "\n",
    "Now it's your turn to train your own agent to solve the environment!  When training the environment, set `train_mode=True`, so that the line for resetting the environment looks like the following:\n",
    "```python\n",
    "env_info = env.reset(train_mode=True)[brain_name]\n",
    "```"
   ]
  },
  {
   "cell_type": "markdown",
   "metadata": {},
   "source": [
    "# Exercise"
   ]
  },
  {
   "cell_type": "markdown",
   "metadata": {},
   "source": [
    "## Train an agent"
   ]
  },
  {
   "cell_type": "code",
   "execution_count": 8,
   "metadata": {
    "ExecuteTime": {
     "end_time": "2019-04-16T22:53:08.085998Z",
     "start_time": "2019-04-16T22:53:07.582645Z"
    }
   },
   "outputs": [],
   "source": [
    "from collections import deque\n",
    "from ddpg_agent import Agent\n",
    "import torch"
   ]
  },
  {
   "cell_type": "code",
   "execution_count": 9,
   "metadata": {
    "ExecuteTime": {
     "end_time": "2019-04-16T22:53:08.110819Z",
     "start_time": "2019-04-16T22:53:08.088403Z"
    }
   },
   "outputs": [],
   "source": [
    "def ddpg(n_episodes=500,\n",
    "         max_time_step=500,\n",
    "         seed=0,\n",
    "         is_train=True,\n",
    "         threshold=30.0):\n",
    "\n",
    "    # load the enviornment\n",
    "    env_info = env.reset(train_mode=is_train)[brain_name]\n",
    "    # get information of the environment\n",
    "    num_agents = len(env_info.agents)\n",
    "    action_size = env.brains[brain_name].vector_action_space_size\n",
    "    state_size = len(env_info.vector_observations[0])\n",
    "\n",
    "    # set an agent\n",
    "    # set multiple agents (option 2.)\n",
    "    agent_tuple = {\n",
    "        \"state_size\": state_size,\n",
    "        \"action_size\": action_size,\n",
    "        \"random_seed\": seed\n",
    "    }\n",
    "    agents = [Agent(**agent_tuple) for _ in range(num_agents)]\n",
    "\n",
    "    # score list for plot\n",
    "    score_list = []\n",
    "    average_score_list = []\n",
    "    average_denominator = 100\n",
    "    # the recent 100 scores for calculate the average score\n",
    "    recent_scores = deque(maxlen=average_denominator)\n",
    "\n",
    "    # start training\n",
    "    for i_episode in range(1, n_episodes + 1):\n",
    "        # reset scores for each agents\n",
    "        scores = np.zeros(num_agents)\n",
    "\n",
    "        # reset environment information\n",
    "        env_info = env.reset(train_mode=is_train)[brain_name]\n",
    "        states = env_info.vector_observations\n",
    "\n",
    "        # reset all agents\n",
    "        for agent in agents:\n",
    "            agent.reset()\n",
    "\n",
    "        # roll over\n",
    "        for t in range(max_time_step):\n",
    "            # choose an action for each agent\n",
    "            actions = [agent.act(states[i], add_noise=True) for i, agent in enumerate(agents)]\n",
    "\n",
    "            # update env\n",
    "            updated_env_info = env.step(actions)[brain_name]\n",
    "\n",
    "            # update next_states\n",
    "            next_states = updated_env_info.vector_observations\n",
    "\n",
    "            # update rewards\n",
    "            rewards = updated_env_info.rewards\n",
    "\n",
    "            # check the episode is fininshed for each agent\n",
    "            dones = updated_env_info.local_done\n",
    "\n",
    "            # step: save experience in replay memory, and use random sample from buffer to learn\n",
    "            # use zip function for multiple agents (option 2.)\n",
    "            if is_train:\n",
    "                step_t = zip(agents, states, actions,\n",
    "                             rewards, next_states, dones)\n",
    "                for agent, state, action, reward, next_step, done in step_t:\n",
    "                    agent.step(state, action, reward, next_step, done, t)\n",
    "\n",
    "            # update currunts state as nest_states\n",
    "            states = next_states\n",
    "            # update scores\n",
    "            scores += rewards\n",
    "\n",
    "            # break if any episode is finished\n",
    "            if np.any(dones):\n",
    "                break\n",
    "\n",
    "        # calculate mean_score of agents append to score_list\n",
    "        score_list.append(np.mean(scores))\n",
    "        # calculate mean_score of recent 100 episodes to score_list\n",
    "        recent_scores.append(np.mean(scores))\n",
    "        average_score_list.append(np.mean(recent_scores))\n",
    "\n",
    "        # print\n",
    "        print(\n",
    "            '\\r> i_episode: {:3d}\\t i_score: {:>6.3f}\\t average_score: {:>6.3f}'.format(\n",
    "                i_episode, score_list[-1], average_score_list[-1]),\n",
    "            end=\"\")\n",
    "        if i_episode % 10 == 0:\n",
    "            print(\n",
    "                '\\r> i_episode: {:3d}\\t i_score: {:>6.3f}\\t average_score: {:>6.3f}'.format(\n",
    "                    i_episode, score_list[-1], average_score_list[-1]),\n",
    "                end=\"\\n\")\n",
    "\n",
    "        if average_score_list[-1] > threshold:\n",
    "            print(\"\\n= completed in i_episode: {:3d}\\taverage_score: {:>6.3f}\".\n",
    "                  format(i_episode, average_score_list[-1]))\n",
    "\n",
    "            torch.save(agent.actor_local.state_dict(), 'checkpoint_actor.pth')\n",
    "            torch.save(agent.critic_local.state_dict(),\n",
    "                       'checkpoint_critic.pth')\n",
    "            break\n",
    "\n",
    "    return score_list, average_score_list"
   ]
  },
  {
   "cell_type": "code",
   "execution_count": 10,
   "metadata": {
    "ExecuteTime": {
     "end_time": "2019-04-17T00:21:39.787426Z",
     "start_time": "2019-04-16T22:53:08.112951Z"
    }
   },
   "outputs": [
    {
     "name": "stdout",
     "output_type": "stream",
     "text": [
      "> i_episode:  10\t i_score:  0.560\t average_score:  0.302\n",
      "> i_episode:  20\t i_score:  1.650\t average_score:  0.507\n",
      "> i_episode:  30\t i_score:  2.840\t average_score:  0.689\n",
      "> i_episode:  40\t i_score:  2.450\t average_score:  1.016\n",
      "> i_episode:  50\t i_score:  2.500\t average_score:  1.186\n",
      "> i_episode:  60\t i_score:  3.120\t average_score:  1.433\n",
      "> i_episode:  70\t i_score:  3.470\t average_score:  1.654\n",
      "> i_episode:  80\t i_score:  3.220\t average_score:  1.918\n",
      "> i_episode:  90\t i_score:  3.040\t average_score:  2.086\n",
      "> i_episode: 100\t i_score:  3.790\t average_score:  2.334\n",
      "> i_episode: 110\t i_score:  4.280\t average_score:  2.811\n",
      "> i_episode: 120\t i_score:  3.120\t average_score:  3.367\n",
      "> i_episode: 130\t i_score:  6.530\t average_score:  3.985\n",
      "> i_episode: 140\t i_score:  6.240\t average_score:  4.633\n",
      "> i_episode: 150\t i_score:  4.050\t average_score:  5.209\n",
      "> i_episode: 160\t i_score: 10.190\t average_score:  5.915\n",
      "> i_episode: 170\t i_score:  9.310\t average_score:  6.596\n",
      "> i_episode: 180\t i_score:  9.320\t average_score:  7.253\n",
      "> i_episode: 190\t i_score:  9.600\t average_score:  7.754\n",
      "> i_episode: 200\t i_score:  8.720\t average_score:  8.204\n",
      "> i_episode: 210\t i_score: 15.930\t average_score:  8.709\n",
      "> i_episode: 220\t i_score:  3.930\t average_score:  8.937\n",
      "> i_episode: 230\t i_score:  9.750\t average_score:  9.247\n",
      "> i_episode: 240\t i_score:  7.340\t average_score:  9.604\n",
      "> i_episode: 250\t i_score:  6.290\t average_score: 10.059\n",
      "> i_episode: 260\t i_score: 13.070\t average_score: 10.426\n",
      "> i_episode: 270\t i_score: 15.160\t average_score: 10.759\n",
      "> i_episode: 280\t i_score: 15.400\t average_score: 11.388\n",
      "> i_episode: 290\t i_score: 15.400\t average_score: 12.637\n",
      "> i_episode: 300\t i_score: 22.520\t average_score: 13.788\n",
      "> i_episode: 310\t i_score: 17.700\t average_score: 14.499\n",
      "> i_episode: 320\t i_score: 26.650\t average_score: 16.171\n",
      "> i_episode: 330\t i_score: 30.250\t average_score: 17.637\n",
      "> i_episode: 340\t i_score: 23.600\t average_score: 19.175\n",
      "> i_episode: 350\t i_score: 29.770\t average_score: 20.711\n",
      "> i_episode: 360\t i_score: 30.580\t average_score: 22.481\n",
      "> i_episode: 370\t i_score: 32.170\t average_score: 24.106\n",
      "> i_episode: 380\t i_score: 32.380\t average_score: 25.768\n",
      "> i_episode: 390\t i_score: 35.490\t average_score: 26.775\n",
      "> i_episode: 400\t i_score: 36.720\t average_score: 28.018\n",
      "> i_episode: 410\t i_score: 31.180\t average_score: 29.665\n",
      "> i_episode: 418\t i_score: 35.710\t average_score: 30.001\n",
      "= completed in i_episode: 418\taverage_score: 30.001\n"
     ]
    }
   ],
   "source": [
    "scores, avg_scores = ddpg(n_episodes=10000, max_time_step=10000, seed=2)"
   ]
  },
  {
   "cell_type": "code",
   "execution_count": 11,
   "metadata": {
    "ExecuteTime": {
     "end_time": "2019-04-17T00:21:39.847208Z",
     "start_time": "2019-04-17T00:21:39.840690Z"
    }
   },
   "outputs": [],
   "source": [
    "env.close()"
   ]
  },
  {
   "cell_type": "markdown",
   "metadata": {},
   "source": [
    "## Plot the result"
   ]
  },
  {
   "cell_type": "code",
   "execution_count": 12,
   "metadata": {
    "ExecuteTime": {
     "end_time": "2019-04-17T00:21:40.216887Z",
     "start_time": "2019-04-17T00:21:39.849489Z"
    }
   },
   "outputs": [],
   "source": [
    "import matplotlib.pyplot as plt\n",
    "%matplotlib inline"
   ]
  },
  {
   "cell_type": "code",
   "execution_count": 17,
   "metadata": {
    "ExecuteTime": {
     "end_time": "2019-04-17T01:10:24.251271Z",
     "start_time": "2019-04-17T01:10:23.623010Z"
    }
   },
   "outputs": [
    {
     "data": {
      "image/png": "[encoded data removed]",
      "text/plain": [
       "<Figure size 1080x432 with 1 Axes>"
      ]
     },
     "metadata": {
      "needs_background": "light"
     },
     "output_type": "display_data"
    }
   ],
   "source": [
    "fig = plt.figure(figsize=(15, 6))\n",
    "ax = fig.add_subplot(111)\n",
    "\n",
    "plt.plot(np.arange(len(scores)), scores, label='episode scores')\n",
    "plt.plot(np.arange(len(scores)), avg_scores,\n",
    "         label='avg scores of 100 recent episodes', linewidth=3)\n",
    "plt.ylabel('score')\n",
    "plt.xlabel('i_episode')\n",
    "\n",
    "ax.legend(fontsize=10)\n",
    "\n",
    "plt.show()\n",
    "fig.savefig('./result_plot.png', bbox_inches='tight')"
   ]
  },
  {
   "cell_type": "code",
   "execution_count": null,
   "metadata": {},
   "outputs": [],
   "source": []
  }
 ],
 "metadata": {
  "kernelspec": {
   "display_name": "drlnd",
   "language": "python",
   "name": "drlnd"
  },
  "language_info": {
   "codemirror_mode": {
    "name": "ipython",
    "version": 3
   },
   "file_extension": ".py",
   "mimetype": "text/x-python",
   "name": "python",
   "nbconvert_exporter": "python",
   "pygments_lexer": "ipython3",
   "version": "3.6.8"
  },
  "toc": {
   "base_numbering": 1,
   "nav_menu": {},
   "number_sections": false,
   "sideBar": true,
   "skip_h1_title": false,
   "title_cell": "Table of Contents",
   "title_sidebar": "Contents",
   "toc_cell": false,
   "toc_position": {},
   "toc_section_display": true,
   "toc_window_display": false
  },
  "varInspector": {
   "cols": {
    "lenName": 16,
    "lenType": 16,
    "lenVar": 40
   },
   "kernels_config": {
    "python": {
     "delete_cmd_postfix": "",
     "delete_cmd_prefix": "del ",
     "library": "var_list.py",
     "varRefreshCmd": "print(var_dic_list())"
    },
    "r": {
     "delete_cmd_postfix": ") ",
     "delete_cmd_prefix": "rm(",
     "library": "var_list.r",
     "varRefreshCmd": "cat(var_dic_list()) "
    }
   },
   "types_to_exclude": [
    "module",
    "function",
    "builtin_function_or_method",
    "instance",
    "_Feature"
   ],
   "window_display": false
  }
 },
 "nbformat": 4,
 "nbformat_minor": 2
}
